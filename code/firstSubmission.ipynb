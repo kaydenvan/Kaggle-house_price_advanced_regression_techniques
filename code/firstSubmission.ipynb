{
 "cells": [
  {
   "cell_type": "code",
   "execution_count": 1,
   "id": "45455451",
   "metadata": {},
   "outputs": [],
   "source": [
    "# import libraries\n",
    "import os\n",
    "import warnings\n",
    "import numpy as np\n",
    "import pandas as pd\n",
    "import seaborn as sns\n",
    "from typing import Optional\n",
    "import matplotlib.pyplot as plt\n",
    "from sklearn.impute import SimpleImputer\n",
    "\n",
    "warnings.filterwarnings('ignore')"
   ]
  },
  {
   "cell_type": "code",
   "execution_count": 2,
   "id": "f6af900e",
   "metadata": {},
   "outputs": [],
   "source": [
    "# load data\n",
    "data_location = f'./local'\n",
    "train_file_name = 'train.csv'\n",
    "test_file_name = 'test.csv'"
   ]
  },
  {
   "cell_type": "code",
   "execution_count": 3,
   "id": "4bdd93bb",
   "metadata": {},
   "outputs": [],
   "source": [
    "df_train = pd.read_csv(os.path.join(data_location, train_file_name))\n",
    "df_test = pd.read_csv(os.path.join(data_location, test_file_name))"
   ]
  },
  {
   "cell_type": "code",
   "execution_count": 4,
   "id": "197a5bfe",
   "metadata": {
    "scrolled": true
   },
   "outputs": [
    {
     "name": "stdout",
     "output_type": "stream",
     "text": [
      "<class 'pandas.core.frame.DataFrame'>\n",
      "RangeIndex: 1460 entries, 0 to 1459\n",
      "Data columns (total 81 columns):\n",
      " #   Column         Non-Null Count  Dtype  \n",
      "---  ------         --------------  -----  \n",
      " 0   Id             1460 non-null   int64  \n",
      " 1   MSSubClass     1460 non-null   int64  \n",
      " 2   MSZoning       1460 non-null   object \n",
      " 3   LotFrontage    1201 non-null   float64\n",
      " 4   LotArea        1460 non-null   int64  \n",
      " 5   Street         1460 non-null   object \n",
      " 6   Alley          91 non-null     object \n",
      " 7   LotShape       1460 non-null   object \n",
      " 8   LandContour    1460 non-null   object \n",
      " 9   Utilities      1460 non-null   object \n",
      " 10  LotConfig      1460 non-null   object \n",
      " 11  LandSlope      1460 non-null   object \n",
      " 12  Neighborhood   1460 non-null   object \n",
      " 13  Condition1     1460 non-null   object \n",
      " 14  Condition2     1460 non-null   object \n",
      " 15  BldgType       1460 non-null   object \n",
      " 16  HouseStyle     1460 non-null   object \n",
      " 17  OverallQual    1460 non-null   int64  \n",
      " 18  OverallCond    1460 non-null   int64  \n",
      " 19  YearBuilt      1460 non-null   int64  \n",
      " 20  YearRemodAdd   1460 non-null   int64  \n",
      " 21  RoofStyle      1460 non-null   object \n",
      " 22  RoofMatl       1460 non-null   object \n",
      " 23  Exterior1st    1460 non-null   object \n",
      " 24  Exterior2nd    1460 non-null   object \n",
      " 25  MasVnrType     1452 non-null   object \n",
      " 26  MasVnrArea     1452 non-null   float64\n",
      " 27  ExterQual      1460 non-null   object \n",
      " 28  ExterCond      1460 non-null   object \n",
      " 29  Foundation     1460 non-null   object \n",
      " 30  BsmtQual       1423 non-null   object \n",
      " 31  BsmtCond       1423 non-null   object \n",
      " 32  BsmtExposure   1422 non-null   object \n",
      " 33  BsmtFinType1   1423 non-null   object \n",
      " 34  BsmtFinSF1     1460 non-null   int64  \n",
      " 35  BsmtFinType2   1422 non-null   object \n",
      " 36  BsmtFinSF2     1460 non-null   int64  \n",
      " 37  BsmtUnfSF      1460 non-null   int64  \n",
      " 38  TotalBsmtSF    1460 non-null   int64  \n",
      " 39  Heating        1460 non-null   object \n",
      " 40  HeatingQC      1460 non-null   object \n",
      " 41  CentralAir     1460 non-null   object \n",
      " 42  Electrical     1459 non-null   object \n",
      " 43  1stFlrSF       1460 non-null   int64  \n",
      " 44  2ndFlrSF       1460 non-null   int64  \n",
      " 45  LowQualFinSF   1460 non-null   int64  \n",
      " 46  GrLivArea      1460 non-null   int64  \n",
      " 47  BsmtFullBath   1460 non-null   int64  \n",
      " 48  BsmtHalfBath   1460 non-null   int64  \n",
      " 49  FullBath       1460 non-null   int64  \n",
      " 50  HalfBath       1460 non-null   int64  \n",
      " 51  BedroomAbvGr   1460 non-null   int64  \n",
      " 52  KitchenAbvGr   1460 non-null   int64  \n",
      " 53  KitchenQual    1460 non-null   object \n",
      " 54  TotRmsAbvGrd   1460 non-null   int64  \n",
      " 55  Functional     1460 non-null   object \n",
      " 56  Fireplaces     1460 non-null   int64  \n",
      " 57  FireplaceQu    770 non-null    object \n",
      " 58  GarageType     1379 non-null   object \n",
      " 59  GarageYrBlt    1379 non-null   float64\n",
      " 60  GarageFinish   1379 non-null   object \n",
      " 61  GarageCars     1460 non-null   int64  \n",
      " 62  GarageArea     1460 non-null   int64  \n",
      " 63  GarageQual     1379 non-null   object \n",
      " 64  GarageCond     1379 non-null   object \n",
      " 65  PavedDrive     1460 non-null   object \n",
      " 66  WoodDeckSF     1460 non-null   int64  \n",
      " 67  OpenPorchSF    1460 non-null   int64  \n",
      " 68  EnclosedPorch  1460 non-null   int64  \n",
      " 69  3SsnPorch      1460 non-null   int64  \n",
      " 70  ScreenPorch    1460 non-null   int64  \n",
      " 71  PoolArea       1460 non-null   int64  \n",
      " 72  PoolQC         7 non-null      object \n",
      " 73  Fence          281 non-null    object \n",
      " 74  MiscFeature    54 non-null     object \n",
      " 75  MiscVal        1460 non-null   int64  \n",
      " 76  MoSold         1460 non-null   int64  \n",
      " 77  YrSold         1460 non-null   int64  \n",
      " 78  SaleType       1460 non-null   object \n",
      " 79  SaleCondition  1460 non-null   object \n",
      " 80  SalePrice      1460 non-null   int64  \n",
      "dtypes: float64(3), int64(35), object(43)\n",
      "memory usage: 924.0+ KB\n"
     ]
    }
   ],
   "source": [
    "# quick data exploration\n",
    "df_train.info()"
   ]
  },
  {
   "cell_type": "code",
   "execution_count": 5,
   "id": "8734c632",
   "metadata": {},
   "outputs": [],
   "source": [
    "# drop column(s) where the percentage of null value is more than or equal to 50%\n",
    "def drop_null_cols(df: pd.DataFrame, ratio: Optional[float] =.5) -> pd.DataFrame:\n",
    "    newDF = df.copy()\n",
    "    for col in newDF.columns:\n",
    "        if newDF[col].isnull().sum()/df.shape[0] >= ratio:\n",
    "            newDF.drop(columns=col, inplace=True)\n",
    "    return newDF"
   ]
  },
  {
   "cell_type": "code",
   "execution_count": 6,
   "id": "ae8fb333",
   "metadata": {},
   "outputs": [],
   "source": [
    "# full missing fields based on column type\n",
    "def full_missing_fields(df: pd.DataFrame) -> pd.DataFrame:\n",
    "    newDF = df.copy()\n",
    "    miss_cols = newDF.columns[newDF.isnull().sum() > 0]\n",
    "    obj_cols = list(newDF.select_dtypes(include='object').columns)\n",
    "    num_cols = list(newDF.select_dtypes(include='number').columns)\n",
    "    \n",
    "    obj_cols = list(set(obj_cols) & set(miss_cols))\n",
    "    num_cols = list(set(num_cols) & set(miss_cols))\n",
    "    \n",
    "    imputer_freq = SimpleImputer(strategy='most_frequent')\n",
    "    imputer_mean = SimpleImputer(strategy='mean')\n",
    "    \n",
    "    newDF[obj_cols] = imputer_freq.fit_transform(newDF[obj_cols])\n",
    "    newDF[num_cols] = imputer_mean.fit_transform(newDF[num_cols])\n",
    "    return newDF"
   ]
  },
  {
   "cell_type": "code",
   "execution_count": 7,
   "id": "a0384981",
   "metadata": {},
   "outputs": [],
   "source": [
    "# one hot transformation\n",
    "def one_hot_encode(df: pd.DataFrame):\n",
    "    newDF = df.copy()\n",
    "    obj_cols = list(newDF.select_dtypes(include='object'))\n",
    "    try: obj_cols.remove('type')\n",
    "    except: pass\n",
    "    for col in obj_cols:\n",
    "        dummies = pd.get_dummies(newDF[col], prefix=col)\n",
    "        newDF = pd.concat([newDF, dummies], axis=1)\n",
    "        newDF.drop(columns=col, inplace=True)\n",
    "    return newDF"
   ]
  },
  {
   "cell_type": "code",
   "execution_count": 8,
   "id": "85e45ecb",
   "metadata": {},
   "outputs": [],
   "source": [
    "# transform both dataset\n",
    "df_train = drop_null_cols(df_train)\n",
    "df_test = drop_null_cols(df_test)\n",
    "df_train = full_missing_fields(df_train)\n",
    "df_test = full_missing_fields(df_test)"
   ]
  },
  {
   "cell_type": "code",
   "execution_count": 9,
   "id": "0aac35ed",
   "metadata": {},
   "outputs": [],
   "source": [
    "# combine train and test dataframe for one-hot encoding\n",
    "# the combination prevents values in test set does not\n",
    "# exist in train set\n",
    "df_train['type'] = 'train'\n",
    "df_test['type'] = 'test'\n",
    "df_merge = pd.concat([df_train, df_test], ignore_index=True).reset_index(drop=True)"
   ]
  },
  {
   "cell_type": "code",
   "execution_count": 10,
   "id": "f8c2ffc0",
   "metadata": {},
   "outputs": [
    {
     "data": {
      "text/plain": [
       "(2919, 278)"
      ]
     },
     "execution_count": 10,
     "metadata": {},
     "output_type": "execute_result"
    }
   ],
   "source": [
    "df_merge = one_hot_encode(df_merge)\n",
    "df_merge = df_merge.loc[:,~df_merge.columns.duplicated()]\n",
    "df_merge.shape"
   ]
  },
  {
   "cell_type": "code",
   "execution_count": 11,
   "id": "8ba7c854",
   "metadata": {},
   "outputs": [],
   "source": [
    "df_train = df_merge[df_merge['type'] == 'train']\n",
    "df_test = df_merge[df_merge['type'] == 'test']\n",
    "df_train.drop(columns='type', inplace=True)\n",
    "df_test.drop(columns='type', inplace=True)"
   ]
  },
  {
   "cell_type": "markdown",
   "id": "cdf1652d",
   "metadata": {},
   "source": [
    "### Model"
   ]
  },
  {
   "cell_type": "code",
   "execution_count": 12,
   "id": "03ba037a",
   "metadata": {},
   "outputs": [],
   "source": [
    "# import libraries\n",
    "from xgboost import XGBRegressor\n",
    "import pickle"
   ]
  },
  {
   "cell_type": "code",
   "execution_count": 13,
   "id": "0cc577db",
   "metadata": {},
   "outputs": [],
   "source": [
    "xgb = XGBRegressor(random_state=0)"
   ]
  },
  {
   "cell_type": "code",
   "execution_count": 14,
   "id": "2ccccdc4",
   "metadata": {},
   "outputs": [
    {
     "data": {
      "text/plain": [
       "XGBRegressor(base_score=0.5, booster='gbtree', colsample_bylevel=1,\n",
       "             colsample_bynode=1, colsample_bytree=1, gamma=0, gpu_id=-1,\n",
       "             importance_type='gain', interaction_constraints='',\n",
       "             learning_rate=0.300000012, max_delta_step=0, max_depth=6,\n",
       "             min_child_weight=1, missing=nan, monotone_constraints='()',\n",
       "             n_estimators=100, n_jobs=8, num_parallel_tree=1, random_state=0,\n",
       "             reg_alpha=0, reg_lambda=1, scale_pos_weight=1, subsample=1,\n",
       "             tree_method='exact', validate_parameters=1, verbosity=None)"
      ]
     },
     "execution_count": 14,
     "metadata": {},
     "output_type": "execute_result"
    }
   ],
   "source": [
    "x_col = list(df_train.columns)\n",
    "y_col = 'SalePrice'\n",
    "x_col.remove(y_col)\n",
    "xgb.fit(df_train[x_col], df_train[y_col])"
   ]
  },
  {
   "cell_type": "code",
   "execution_count": 15,
   "id": "68328b68",
   "metadata": {},
   "outputs": [],
   "source": [
    "# store trained result\n",
    "filename = './model/firstSubmission.pkl'\n",
    "pickle.dump(xgb, open(filename, 'wb'))"
   ]
  },
  {
   "cell_type": "code",
   "execution_count": 16,
   "id": "51f80fd1",
   "metadata": {},
   "outputs": [],
   "source": [
    "# generate result dataframe\n",
    "df_test['y_pred'] = xgb.predict(df_test[x_col])\n",
    "submission = df_test[['Id', 'y_pred']].rename(columns={'y_pred':y_col})\n",
    "submission.to_csv('./submission/firstSubmission.csv', index=False, header=True)"
   ]
  }
 ],
 "metadata": {
  "kernelspec": {
   "display_name": "Python 3 (ipykernel)",
   "language": "python",
   "name": "python3"
  },
  "language_info": {
   "codemirror_mode": {
    "name": "ipython",
    "version": 3
   },
   "file_extension": ".py",
   "mimetype": "text/x-python",
   "name": "python",
   "nbconvert_exporter": "python",
   "pygments_lexer": "ipython3",
   "version": "3.8.10"
  }
 },
 "nbformat": 4,
 "nbformat_minor": 5
}
